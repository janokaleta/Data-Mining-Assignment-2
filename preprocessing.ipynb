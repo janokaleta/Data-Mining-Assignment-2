{
 "cells": [
  {
   "cell_type": "code",
   "execution_count": 4,
   "id": "de1e07c4",
   "metadata": {},
   "outputs": [],
   "source": [
    "import pandas as pd\n",
    "\n",
    "# Load the original dataset\n",
    "original_df = pd.read_csv(\"training_set_VU_DM.csv\")\n",
    "original_test_set = pd.read_csv(\"test_set_VU_DM.csv\")\n",
    "df = original_df.copy()\n",
    "df_test = original_test_set.copy()"
   ]
  },
  {
   "cell_type": "code",
   "execution_count": 7,
   "id": "70da4047",
   "metadata": {},
   "outputs": [
    {
     "name": "stderr",
     "output_type": "stream",
     "text": [
      "C:\\Users\\alexa\\AppData\\Local\\Temp\\ipykernel_7640\\2831859980.py:9: FutureWarning: A value is trying to be set on a copy of a DataFrame or Series through chained assignment using an inplace method.\n",
      "The behavior will change in pandas 3.0. This inplace method will never work because the intermediate object on which we are setting values always behaves as a copy.\n",
      "\n",
      "For example, when doing 'df[col].method(value, inplace=True)', try using 'df.method({col: value}, inplace=True)' or df[col] = df[col].method(value) instead, to perform the operation inplace on the original object.\n",
      "\n",
      "\n",
      "  df['visitor_hist_starrating'].fillna(median_star, inplace=True)\n",
      "C:\\Users\\alexa\\AppData\\Local\\Temp\\ipykernel_7640\\2831859980.py:10: FutureWarning: A value is trying to be set on a copy of a DataFrame or Series through chained assignment using an inplace method.\n",
      "The behavior will change in pandas 3.0. This inplace method will never work because the intermediate object on which we are setting values always behaves as a copy.\n",
      "\n",
      "For example, when doing 'df[col].method(value, inplace=True)', try using 'df.method({col: value}, inplace=True)' or df[col] = df[col].method(value) instead, to perform the operation inplace on the original object.\n",
      "\n",
      "\n",
      "  df['visitor_hist_adr_usd'].fillna(median_adr,  inplace=True)\n",
      "C:\\Users\\alexa\\AppData\\Local\\Temp\\ipykernel_7640\\2831859980.py:11: FutureWarning: A value is trying to be set on a copy of a DataFrame or Series through chained assignment using an inplace method.\n",
      "The behavior will change in pandas 3.0. This inplace method will never work because the intermediate object on which we are setting values always behaves as a copy.\n",
      "\n",
      "For example, when doing 'df[col].method(value, inplace=True)', try using 'df.method({col: value}, inplace=True)' or df[col] = df[col].method(value) instead, to perform the operation inplace on the original object.\n",
      "\n",
      "\n",
      "  df['srch_query_affinity_score'].fillna(median_aff, inplace=True)\n",
      "C:\\Users\\alexa\\AppData\\Local\\Temp\\ipykernel_7640\\2831859980.py:21: FutureWarning: A value is trying to be set on a copy of a DataFrame or Series through chained assignment using an inplace method.\n",
      "The behavior will change in pandas 3.0. This inplace method will never work because the intermediate object on which we are setting values always behaves as a copy.\n",
      "\n",
      "For example, when doing 'df[col].method(value, inplace=True)', try using 'df.method({col: value}, inplace=True)' or df[col] = df[col].method(value) instead, to perform the operation inplace on the original object.\n",
      "\n",
      "\n",
      "  df_test['visitor_hist_starrating'].fillna(median_star_test, inplace=True)\n",
      "C:\\Users\\alexa\\AppData\\Local\\Temp\\ipykernel_7640\\2831859980.py:22: FutureWarning: A value is trying to be set on a copy of a DataFrame or Series through chained assignment using an inplace method.\n",
      "The behavior will change in pandas 3.0. This inplace method will never work because the intermediate object on which we are setting values always behaves as a copy.\n",
      "\n",
      "For example, when doing 'df[col].method(value, inplace=True)', try using 'df.method({col: value}, inplace=True)' or df[col] = df[col].method(value) instead, to perform the operation inplace on the original object.\n",
      "\n",
      "\n",
      "  df_test['visitor_hist_adr_usd'].fillna(median_adr_test,  inplace=True)\n",
      "C:\\Users\\alexa\\AppData\\Local\\Temp\\ipykernel_7640\\2831859980.py:23: FutureWarning: A value is trying to be set on a copy of a DataFrame or Series through chained assignment using an inplace method.\n",
      "The behavior will change in pandas 3.0. This inplace method will never work because the intermediate object on which we are setting values always behaves as a copy.\n",
      "\n",
      "For example, when doing 'df[col].method(value, inplace=True)', try using 'df.method({col: value}, inplace=True)' or df[col] = df[col].method(value) instead, to perform the operation inplace on the original object.\n",
      "\n",
      "\n",
      "  df_test['srch_query_affinity_score'].fillna(median_aff_test, inplace=True)\n"
     ]
    },
    {
     "name": "stdout",
     "output_type": "stream",
     "text": [
      "Dropped columns due to missing values > 70.0%: ['gross_bookings_usd']\n",
      "Missing values before cleaning:\n",
      "Series([], dtype: int64)\n",
      "Missing values before cleaning: test\n",
      "Series([], dtype: int64)\n"
     ]
    }
   ],
   "source": [
    "df['has_hist_starrating'] = df['visitor_hist_starrating'].notnull().astype(int)\n",
    "df['has_hist_adr'] = df['visitor_hist_adr_usd'].notnull().astype(int)\n",
    "df['has_affinity'] = df['srch_query_affinity_score'].notnull().astype(int)\n",
    "\n",
    "median_star = df['visitor_hist_starrating'].median()\n",
    "median_adr  = df['visitor_hist_adr_usd'].median()\n",
    "median_aff = df['srch_query_affinity_score'].median()\n",
    "\n",
    "df['visitor_hist_starrating'].fillna(median_star, inplace=True)\n",
    "df['visitor_hist_adr_usd'].fillna(median_adr,  inplace=True)\n",
    "df['srch_query_affinity_score'].fillna(median_aff, inplace=True)\n",
    "\n",
    "df_test['has_hist_starrating'] = df_test['visitor_hist_starrating'].notnull().astype(int)\n",
    "df_test['has_hist_adr'] = df_test['visitor_hist_adr_usd'].notnull().astype(int)\n",
    "df_test['has_affinity'] = df_test['srch_query_affinity_score'].notnull().astype(int)\n",
    "\n",
    "median_star_test = df_test['visitor_hist_starrating'].median()\n",
    "median_adr_test  = df_test['visitor_hist_adr_usd'].median()\n",
    "median_aff_test = df_test['srch_query_affinity_score'].median()\n",
    "\n",
    "df_test['visitor_hist_starrating'].fillna(median_star_test, inplace=True)\n",
    "df_test['visitor_hist_adr_usd'].fillna(median_adr_test,  inplace=True)\n",
    "df_test['srch_query_affinity_score'].fillna(median_aff_test, inplace=True)\n",
    "\n",
    "# Drop columns with more than 70% missing values\n",
    "missing_threshold = 0.7 \n",
    "missing_fractions = df.isnull().mean()\n",
    "columns_to_drop = missing_fractions[missing_fractions > missing_threshold].index.tolist()\n",
    "df.drop(columns=columns_to_drop, axis=1, inplace=True, errors='ignore')\n",
    "df_test.drop(columns=columns_to_drop, axis=1, inplace=True, errors='ignore')\n",
    "print(f\"Dropped columns due to missing values > {missing_threshold*100}%: {columns_to_drop}\")\n",
    "\n",
    "print(\"Missing values before cleaning:\")\n",
    "print(df.isnull().sum()[df.isnull().sum() > 0])\n",
    "print(\"Missing values before cleaning: test\")\n",
    "print(df_test.isnull().sum()[df_test.isnull().sum() > 0])"
   ]
  },
  {
   "cell_type": "code",
   "execution_count": 8,
   "id": "1409ec0c",
   "metadata": {},
   "outputs": [
    {
     "name": "stdout",
     "output_type": "stream",
     "text": [
      "Missing values after cleaning:\n",
      "Series([], dtype: int64)\n",
      "Missing values after cleaning: test\n",
      "Series([], dtype: int64)\n"
     ]
    }
   ],
   "source": [
    "# Handling missing values of remaining variables\n",
    "if \"prop_review_score\" in df.columns:\n",
    "    df[\"prop_review_score\"] = df[\"prop_review_score\"].fillna(df[\"prop_review_score\"].median())\n",
    "    df_test[\"prop_review_score\"] = df_test[\"prop_review_score\"].fillna(df_test[\"prop_review_score\"].median())\n",
    "\n",
    "if \"prop_location_score2\" in df.columns:\n",
    "    df[\"prop_location_score2\"] = df[\"prop_location_score2\"].fillna(0)\n",
    "    df_test[\"prop_location_score2\"] = df_test[\"prop_location_score2\"].fillna(0)\n",
    "\n",
    "if \"orig_destination_distance\" in df.columns:\n",
    "    df[\"orig_destination_distance\"] = df[\"orig_destination_distance\"].fillna(df[\"orig_destination_distance\"].median())\n",
    "    df_test[\"orig_destination_distance\"] = df_test[\"orig_destination_distance\"].fillna(df_test[\"orig_destination_distance\"].median())\n",
    "\n",
    "# Handling competitor information\n",
    "for i in range(1, 9):\n",
    "    rate_col = f\"comp{i}_rate\"\n",
    "    inv_col = f\"comp{i}_inv\"\n",
    "    diff_col = f\"comp{i}_rate_percent_diff\"\n",
    "\n",
    "    for col in [rate_col, inv_col, diff_col]:\n",
    "        if col in df.columns:\n",
    "            fill_val = 0 if \"percent_diff\" not in col else 0.0\n",
    "            df[col] = df[col].fillna(fill_val)\n",
    "            df_test[col] = df_test[col].fillna(fill_val)\n",
    "\n",
    "print(\"Missing values after cleaning:\")\n",
    "print(df.isnull().sum()[df.isnull().sum() > 0])\n",
    "\n",
    "print(\"Missing values after cleaning: test\")\n",
    "print(df_test.isnull().sum()[df_test.isnull().sum() > 0])"
   ]
  },
  {
   "cell_type": "code",
   "execution_count": 9,
   "id": "18f47d3f",
   "metadata": {},
   "outputs": [],
   "source": [
    "# Save to a new file\n",
    "df.to_csv(\"training_set_cleaned.csv\", index=False)\n",
    "df_test.to_csv(\"test_set_cleaned.csv\", index=False)"
   ]
  }
 ],
 "metadata": {
  "kernelspec": {
   "display_name": "Python 3",
   "language": "python",
   "name": "python3"
  },
  "language_info": {
   "codemirror_mode": {
    "name": "ipython",
    "version": 3
   },
   "file_extension": ".py",
   "mimetype": "text/x-python",
   "name": "python",
   "nbconvert_exporter": "python",
   "pygments_lexer": "ipython3",
   "version": "3.11.11"
  }
 },
 "nbformat": 4,
 "nbformat_minor": 5
}
