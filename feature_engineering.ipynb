{
 "cells": [
  {
   "cell_type": "code",
   "execution_count": 9,
   "id": "fd10a395",
   "metadata": {},
   "outputs": [],
   "source": [
    "import pandas as pd\n",
    "import numpy as np\n",
    "import matplotlib.pyplot as plt"
   ]
  },
  {
   "cell_type": "code",
   "execution_count": 10,
   "id": "cd0eba1a",
   "metadata": {},
   "outputs": [],
   "source": [
    "# Constants\n",
    "relevance_score_weight_clicked = 1\n",
    "relevance_score_weight_booked = 5"
   ]
  },
  {
   "cell_type": "code",
   "execution_count": 4,
   "id": "c6488251",
   "metadata": {},
   "outputs": [],
   "source": [
    "df = pd.read_csv(\"training_set_cleaned.csv\")\n",
    "df_test = pd.read_csv(\"test_set_cleaned.csv\")"
   ]
  },
  {
   "cell_type": "code",
   "execution_count": 11,
   "id": "eb0c69f6",
   "metadata": {},
   "outputs": [],
   "source": [
    "# Is the trip international\n",
    "df['is_international_trip'] = df['prop_country_id'] != df['visitor_location_country_id']\n",
    "df_test['is_international_trip'] = df_test['prop_country_id'] != df_test['visitor_location_country_id']\n",
    "\n",
    "# Price difference between property and visitor's mean purchase history\n",
    "df['price_dif'] = df['price_usd'] - df['visitor_hist_adr_usd']\n",
    "df_test['price_dif'] = df_test['price_usd'] - df_test['visitor_hist_adr_usd'] \n",
    "\n",
    "# Price ratio between property and visitor's mean purchase history\n",
    "df['price_ratio'] = (df['price_usd']+1)/(df['visitor_hist_adr_usd']+1)\n",
    "df_test['price_ratio'] = (df_test['price_usd']+1)/(df_test['visitor_hist_adr_usd']+1)\n",
    "\n",
    "# Star rating difference between property and visitor's mean star rating history\n",
    "df['star_dif'] = df['prop_starrating'] - df['visitor_hist_starrating']\n",
    "df_test['star_dif'] = df_test['prop_starrating'] - df_test['visitor_hist_starrating']\n",
    "\n",
    "# Star rating ratio between property and visitor's mean star rating history\n",
    "df['star_ratio'] = (df['prop_starrating']+1)/(df['visitor_hist_starrating']+1)\n",
    "df_test['star_ratio'] = (df_test['prop_starrating']+1)/(df_test['visitor_hist_starrating']+1)\n",
    "\n",
    "# Ratio of property star rating over property review score\n",
    "df['star_review_ratio'] = (df['prop_starrating'] + 1)/(df['prop_review_score'] + 1)\n",
    "df_test['star_review_ratio'] = (df_test['prop_starrating'] + 1)/(df_test['prop_review_score'] + 1)"
   ]
  },
  {
   "cell_type": "code",
   "execution_count": 12,
   "id": "77d5172b",
   "metadata": {},
   "outputs": [],
   "source": [
    "# Discounted price compared to historical log price\n",
    "df['discount_score'] = df['prop_log_historical_price'].apply(np.exp) - df['price_usd']\n",
    "df_test['discount_score'] = df_test['prop_log_historical_price'].apply(np.exp) - df_test['price_usd']\n",
    "\n",
    "\n",
    "# How popular is the property overall (historically booked or clicked)\n",
    "prop_click_rate = df.groupby('prop_id')['click_bool'].mean().rename(\"prop_click_rate\")\n",
    "prop_book_rate = df.groupby('prop_id')['booking_bool'].mean().rename(\"prop_book_rate\")\n",
    "df = df.merge(prop_click_rate, on='prop_id', how='left')\n",
    "df = df.merge(prop_book_rate, on='prop_id', how='left')\n",
    "df_test = df_test.merge(prop_click_rate, on='prop_id', how='left')\n",
    "df_test = df_test.merge(prop_book_rate, on='prop_id', how='left')"
   ]
  },
  {
   "cell_type": "code",
   "execution_count": 13,
   "id": "23d14547",
   "metadata": {},
   "outputs": [],
   "source": [
    "# Average price, star rating, review in a search\n",
    "avg_price_per_search = df.groupby('srch_id')['price_usd'].mean().rename(\"average_price_per_search\")\n",
    "avg_star_per_search = df.groupby('srch_id')['prop_starrating'].mean().rename(\"average_star_per_search\")\n",
    "avg_review_per_search = df.groupby('srch_id')['prop_review_score'].mean().rename(\"average_review_per_search\")\n",
    "df = df.merge(avg_price_per_search, on='srch_id', how='left')\n",
    "df = df.merge(avg_star_per_search, on='srch_id', how='left')\n",
    "df = df.merge(avg_review_per_search, on='srch_id', how='left')\n",
    "\n",
    "avg_price_per_search_test = df_test.groupby('srch_id')['price_usd'].mean().rename(\"average_price_per_search\")\n",
    "avg_star_per_search_test = df_test.groupby('srch_id')['prop_starrating'].mean().rename(\"average_star_per_search\")\n",
    "avg_review_per_search_test = df_test.groupby('srch_id')['prop_review_score'].mean().rename(\"average_review_per_search\")\n",
    "df_test = df_test.merge(avg_price_per_search_test, on='srch_id', how='left')\n",
    "df_test = df_test.merge(avg_star_per_search_test, on='srch_id', how='left')\n",
    "df_test = df_test.merge(avg_review_per_search_test, on='srch_id', how='left')"
   ]
  },
  {
   "cell_type": "code",
   "execution_count": 14,
   "id": "ee156693",
   "metadata": {},
   "outputs": [],
   "source": [
    "# Difference between property price and average price per search\n",
    "df['price_dif2'] = df['price_usd'] - df['average_price_per_search']\n",
    "df_test['price_dif2'] = df_test['price_usd'] - df_test['average_price_per_search']\n",
    "\n",
    "df['price_ratio2'] = (df['price_usd']+1)/(df['average_price_per_search']+1)\n",
    "df_test['price_ratio2'] = (df_test['price_usd']+1)/(df_test['average_price_per_search']+1)\n",
    "\n",
    "# Difference between property star rating and average star rating per search\n",
    "df['star_dif2'] = df['prop_starrating'] - df['average_star_per_search']\n",
    "df_test['star_dif2'] = df_test['prop_starrating'] - df_test['average_star_per_search']\n",
    "\n",
    "# Ratio between property star rating and average star rating per search\n",
    "df['star_ratio2'] = (df['prop_starrating']+1)/(df['average_star_per_search']+1)\n",
    "df_test['star_ratio2'] = (df_test['prop_starrating']+1)/(df_test['average_star_per_search']+1)\n",
    "\n",
    "# Difference between property review score and average review score per search\n",
    "df['review_dif'] = df['prop_review_score'] - df['average_review_per_search']\n",
    "df_test['review_dif'] = df_test['prop_review_score'] - df_test['average_review_per_search']\n",
    "\n",
    "# Ratio between property review score and average review score per search\n",
    "df['review_ratio'] = (df['prop_review_score']+1)/(df['average_review_per_search']+1)\n",
    "df_test['review_ratio'] = (df_test['prop_review_score']+1)/(df_test['average_review_per_search']+1)"
   ]
  },
  {
   "cell_type": "code",
   "execution_count": 15,
   "id": "1d46ef61",
   "metadata": {},
   "outputs": [],
   "source": [
    "avg_position_per_search = df.groupby('prop_id')['position'].mean().rename(\"average_position_per_property\")\n",
    "df = df.merge(avg_position_per_search, on='prop_id', how='left')\n",
    "df_test = df_test.merge(avg_position_per_search, on='prop_id', how='left')"
   ]
  },
  {
   "cell_type": "code",
   "execution_count": null,
   "id": "7ed9d2a1",
   "metadata": {},
   "outputs": [],
   "source": [
    "# 1. Identify your numeric columns (exclude prop_id and any others you don't want to aggregate)\n",
    "num_cols = [\n",
    "    'price_usd',\n",
    "    'prop_review_score',\n",
    "    'srch_query_affinity_score',\n",
    "    'visitor_hist_starrating',\n",
    "    'visitor_hist_adr_usd',\n",
    "    'prop_starrating',\n",
    "    'prop_location_score1',\n",
    "    'prop_location_score2',\n",
    "    'prop_log_historical_price',\n",
    "    'price_usd',\n",
    "    'srch_length_of_stay',\n",
    "    'srch_booking_window',\n",
    "    'srch_adults_count',\n",
    "    'srch_children_count',\n",
    "    'srch_room_count',\n",
    "    'srch_saturday_night_bool',\n",
    "    'srch_query_affinity_score',\n",
    "    'orig_destination_distance',\n",
    "    'random_bool'\n",
    "]\n",
    "# Result has prop_id 101, 102\n",
    "\n",
    "# 2. Compute the group-by aggregations\n",
    "agg = (\n",
    "    df\n",
    "    .groupby('prop_id')[num_cols]\n",
    "    .agg(['mean', 'std', 'median'])\n",
    ")\n",
    "\n",
    "\n",
    "# 3. Flatten the multi-index columns\n",
    "agg.columns = [\n",
    "    f\"{col}_{stat}\"\n",
    "    for col, stat in agg.columns\n",
    "]\n",
    "agg = agg.reset_index()\n",
    "\n",
    "# 4. Merge back onto your original DataFrame\n",
    "df = df.merge(agg, on='prop_id', how='left')\n",
    "df_test = df_test.merge(agg, on='prop_id', how='left')"
   ]
  },
  {
   "cell_type": "code",
   "execution_count": 21,
   "id": "b459bd09",
   "metadata": {},
   "outputs": [],
   "source": [
    "# 1. Make sure it's a datetime type\n",
    "df['date_time'] = pd.to_datetime(df['date_time'])\n",
    "df_test['date_time'] = pd.to_datetime(df_test['date_time'])\n",
    "\n",
    "# 2. Extract the month (as an integer 1–12)\n",
    "df['month'] = df['date_time'].dt.month\n",
    "df_test['month'] = df_test['date_time'].dt.month\n",
    "\n",
    "df.drop('date_time', axis=1, inplace=True, errors='ignore')\n",
    "df_test.drop('date_time', axis=1, inplace=True, errors='ignore')"
   ]
  },
  {
   "cell_type": "code",
   "execution_count": 22,
   "id": "5ed19f47",
   "metadata": {},
   "outputs": [],
   "source": [
    "df['relevance_score'] = relevance_score_weight_clicked * df['click_bool'] + relevance_score_weight_booked * df['booking_bool']"
   ]
  },
  {
   "cell_type": "code",
   "execution_count": 23,
   "id": "f930ca19",
   "metadata": {},
   "outputs": [
    {
     "name": "stdout",
     "output_type": "stream",
     "text": [
      "Series([], dtype: int64)\n",
      "Series([], dtype: int64)\n"
     ]
    }
   ],
   "source": [
    "df.fillna(df.median(), inplace=True)\n",
    "df_test.fillna(df.median(), inplace=True)\n",
    "\n",
    "print(df.isnull().sum()[df.isnull().sum() > 0])\n",
    "print(df_test.isnull().sum()[df_test.isnull().sum() > 0])"
   ]
  },
  {
   "cell_type": "code",
   "execution_count": 24,
   "id": "d0724fb7",
   "metadata": {},
   "outputs": [],
   "source": [
    "# Save to a new file\n",
    "df.to_csv(\"training_set_final.csv\", index=False)\n",
    "df_test.to_csv(\"test_set_final.csv\", index=False)"
   ]
  }
 ],
 "metadata": {
  "kernelspec": {
   "display_name": "Python 3",
   "language": "python",
   "name": "python3"
  },
  "language_info": {
   "codemirror_mode": {
    "name": "ipython",
    "version": 3
   },
   "file_extension": ".py",
   "mimetype": "text/x-python",
   "name": "python",
   "nbconvert_exporter": "python",
   "pygments_lexer": "ipython3",
   "version": "3.11.11"
  }
 },
 "nbformat": 4,
 "nbformat_minor": 5
}
